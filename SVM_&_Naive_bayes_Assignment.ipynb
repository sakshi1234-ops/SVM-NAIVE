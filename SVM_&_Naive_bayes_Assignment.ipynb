{
  "nbformat": 4,
  "nbformat_minor": 0,
  "metadata": {
    "colab": {
      "provenance": []
    },
    "kernelspec": {
      "name": "python3",
      "display_name": "Python 3"
    },
    "language_info": {
      "name": "python"
    }
  },
  "cells": [
    {
      "cell_type": "markdown",
      "source": [
        "\n",
        "---\n",
        "\n",
        "1. What is a Support Vector Machine (SVM)?\n",
        "**Answer:** A Support Vector Machine (SVM) is a supervised machine learning algorithm used for classification and regression tasks. It finds the optimal hyperplane that best separates data into classes by maximizing the margin between data points of different classes.\n",
        "\n",
        "---\n",
        "\n",
        "2. ** What is the difference between Hard Margin and Soft Margin SVM?\n",
        "**Answer:**\n",
        "\n",
        "* **Hard Margin SVM** assumes that the data is linearly separable without errors and finds a hyperplane with the maximum margin and no misclassifications.\n",
        "* **Soft Margin SVM** allows some misclassifications to improve generalization for non-separable data by introducing a penalty term controlled by the parameter **C**.\n",
        "\n",
        "---\n",
        "\n",
        "3. ** What is the mathematical intuition behind SVM?\n",
        "**Answer:** SVM aims to maximize the margin between classes by solving an optimization problem that minimizes $\\frac{1}{2}||w||^2$ subject to the constraint $y_i(w \\cdot x_i + b) \\geq 1$. This leads to a large-margin classifier that separates classes effectively.\n",
        "\n",
        "---\n",
        "4. ** What is the role of Lagrange Multipliers in SVM?\n",
        "**Answer:** Lagrange Multipliers help transform the constrained optimization problem of SVM into a dual form, making it easier to solve and enabling the use of kernel functions to handle non-linear data.\n",
        "\n",
        "---\n",
        "\n",
        "5. ** What are Support Vectors in SVM?\n",
        "**Answer:** Support Vectors are the data points that lie closest to the hyperplane and define the margin. They are critical because the optimal hyperplane depends only on these points.\n",
        "\n",
        "---\n",
        "\n",
        "6. ** What is a Support Vector Classifier (SVC)?\n",
        "**Answer:** SVC is the implementation of SVM for classification problems. It finds the best hyperplane that separates different classes with the largest possible margin.\n",
        "\n",
        "---\n",
        "7. ** What is a Support Vector Regressor (SVR)?\n",
        "**Answer:** SVR applies the principles of SVM to regression problems. It finds a function that deviates from the actual target values by a value no more than $\\epsilon$, while maintaining flatness (small weights).\n",
        "\n",
        "---\n",
        "8. ** What is the Kernel Trick in SVM?\n",
        "**Answer:** The Kernel Trick allows SVM to perform non-linear classification by implicitly mapping input features into a higher-dimensional space using kernel functions (e.g., RBF, polynomial) without computing the transformation explicitly.\n",
        "\n",
        "---\n",
        "\n",
        "9. ** Compare Linear Kernel, Polynomial Kernel, and RBF Kernel:\n",
        "**Answer:**\n",
        "\n",
        "* **Linear Kernel**: Used when data is linearly separable; faster and simpler.\n",
        "* **Polynomial Kernel**: Captures interactions between features using polynomial degrees; suitable for moderate non-linearities.\n",
        "* **RBF (Radial Basis Function) Kernel**: Handles highly non-linear data; maps data to infinite-dimensional space using Gaussian function.\n",
        "\n",
        "---\n",
        "\n",
        "10. ** What is the effect of the C parameter in SVM?\n",
        "**Answer:** The **C** parameter controls the trade-off between maximizing the margin and minimizing classification error. A small C increases margin (more tolerance to misclassification), while a large C aims for fewer misclassifications (narrower margin).\n",
        "\n",
        "---\n",
        "\n",
        "11. ** What is the role of the Gamma parameter in RBF Kernel SVM?\n",
        "**Answer:** **Gamma** defines the influence of a single training example. A low gamma means far influence (smoother decision boundary), while high gamma means close influence (more complex boundary, possible overfitting).\n",
        "\n",
        "---\n",
        "\n",
        "12. ** What is the Naïve Bayes classifier, and why is it called \"Naïve\"?\n",
        "**Answer:** Naïve Bayes is a probabilistic classifier based on Bayes' Theorem assuming independence between features. It is called \"naïve\" because it assumes all features are conditionally independent given the class label, which is rarely true in reality.\n",
        "\n",
        "---\n",
        "13. ** What is Bayes’ Theorem?\n",
        "**Answer:** Bayes' Theorem describes the probability of a hypothesis given observed evidence:\n",
        "\n",
        "$$\n",
        "P(H|E) = \\frac{P(E|H) \\cdot P(H)}{P(E)}\n",
        "$$\n",
        "\n",
        "---\n",
        "\n",
        "14. ** Explain the differences between Gaussian Naïve Bayes, Multinomial Naïve Bayes, and Bernoulli Naïve Bayes:\n",
        "**Answer:**\n",
        "\n",
        "* **Gaussian NB**: Assumes continuous data follows a normal distribution.\n",
        "* **Multinomial NB**: Works with discrete count features like word counts in documents.\n",
        "* **Bernoulli NB**: Works with binary/boolean features indicating presence or absence of a feature.\n",
        "\n",
        "---\n",
        "\n",
        "15. ** When should you use Gaussian Naïve Bayes over other variants?\n",
        "**Answer:** Use **Gaussian Naïve Bayes** when the features are continuous and approximately normally distributed (e.g., medical or sensor data).\n",
        "\n",
        "---\n",
        "\n",
        "16. ** What are the key assumptions made by Naïve Bayes?\n",
        "**Answer:**\n",
        "\n",
        "1. Features are conditionally independent given the class label.\n",
        "2. Each feature contributes equally and independently to the outcome.\n",
        "\n",
        "---\n",
        "\n",
        "17. ** What are the advantages and disadvantages of Naïve Bayes?\n",
        "**Answer:**\n",
        "**Advantages:** Fast, simple, works well with high-dimensional data, performs well with small data.\n",
        "**Disadvantages:** Assumes feature independence (often unrealistic), may underperform when features are highly correlated.\n",
        "\n",
        "---\n",
        "\n",
        "18. ** Why is Naïve Bayes a good choice for text classification?\n",
        "**Answer:** Because text data typically has a high number of features (words), which are often conditionally independent. Naïve Bayes is efficient, effective, and handles high-dimensional sparse data well.\n",
        "\n",
        "---\n",
        "\n",
        "19. ** Compare SVM and Naïve Bayes for classification tasks:\n",
        "**Answer:**\n",
        "\n",
        "* **SVM**: Better accuracy for complex data, handles non-linear boundaries, more computationally intensive.\n",
        "* **Naïve Bayes**: Faster, better with small or high-dimensional data, especially good for text classification.\n",
        "* Use SVM when accuracy matters; use Naïve Bayes for speed or when assumptions are met.\n",
        "\n",
        "---\n",
        "\n",
        "20. ** How does Laplace Smoothing help in Naïve Bayes?\n",
        "**Answer:** Laplace Smoothing (adding 1 to word counts) prevents zero probabilities for unseen features in test data, which can otherwise nullify the entire probability product in Naïve Bayes.\n",
        "\n",
        "---\n",
        "\n"
      ],
      "metadata": {
        "id": "Yw4LJxO4JSuN"
      }
    },
    {
      "cell_type": "code",
      "source": [
        "21.\n",
        "from sklearn import datasets\n",
        "from sklearn.model_selection import train_test_split\n",
        "from sklearn.svm import SVC\n",
        "from sklearn.metrics import accuracy_score\n",
        "\n",
        "# Load data\n",
        "iris = datasets.load_iris()\n",
        "X, y = iris.data, iris.target\n",
        "\n",
        "# Train-test split\n",
        "X_train, X_test, y_train, y_test = train_test_split(X, y, test_size=0.3, random_state=42)\n",
        "\n",
        "# Train SVM classifier\n",
        "clf = SVC(kernel='linear')\n",
        "clf.fit(X_train, y_train)\n",
        "\n",
        "# Predict and evaluate\n",
        "y_pred = clf.predict(X_test)\n",
        "print(\"Accuracy (Iris):\", accuracy_score(y_test, y_pred))\n"
      ],
      "metadata": {
        "colab": {
          "base_uri": "https://localhost:8080/"
        },
        "id": "OKwJyFg9KEDd",
        "outputId": "052f5c75-f118-4d54-e207-980ef6aff2d1"
      },
      "execution_count": null,
      "outputs": [
        {
          "output_type": "stream",
          "name": "stdout",
          "text": [
            "Accuracy (Iris): 1.0\n"
          ]
        }
      ]
    },
    {
      "cell_type": "code",
      "source": [
        "22.\n",
        "from sklearn import datasets\n",
        "from sklearn.model_selection import train_test_split\n",
        "from sklearn.svm import SVC\n",
        "from sklearn.metrics import accuracy_score\n",
        "\n",
        "# Load data\n",
        "wine = datasets.load_wine()\n",
        "X, y = wine.data, wine.target\n",
        "\n",
        "# Split data\n",
        "X_train, X_test, y_train, y_test = train_test_split(X, y, test_size=0.3, random_state=42)\n",
        "\n",
        "# Linear SVM\n",
        "linear_svc = SVC(kernel='linear')\n",
        "linear_svc.fit(X_train, y_train)\n",
        "linear_acc = accuracy_score(y_test, linear_svc.predict(X_test))\n",
        "\n",
        "# RBF SVM\n",
        "rbf_svc = SVC(kernel='rbf')\n",
        "rbf_svc.fit(X_train, y_train)\n",
        "rbf_acc = accuracy_score(y_test, rbf_svc.predict(X_test))\n",
        "\n",
        "print(\"Linear Kernel Accuracy:\", linear_acc)\n",
        "print(\"RBF Kernel Accuracy:\", rbf_acc)\n"
      ],
      "metadata": {
        "colab": {
          "base_uri": "https://localhost:8080/"
        },
        "id": "KoNp2DDPKO-3",
        "outputId": "b1397114-d255-4da2-b496-477d7e3607b7"
      },
      "execution_count": null,
      "outputs": [
        {
          "output_type": "stream",
          "name": "stdout",
          "text": [
            "Linear Kernel Accuracy: 0.9814814814814815\n",
            "RBF Kernel Accuracy: 0.7592592592592593\n"
          ]
        }
      ]
    },
    {
      "cell_type": "code",
      "source": [
        "23.\n",
        "from sklearn.datasets import fetch_california_housing\n",
        "from sklearn.model_selection import train_test_split\n",
        "from sklearn.svm import SVR\n",
        "from sklearn.metrics import mean_squared_error\n",
        "from sklearn.preprocessing import StandardScaler\n",
        "\n",
        "# Load data\n",
        "data = fetch_california_housing()\n",
        "X, y = data.data, data.target\n",
        "\n",
        "# Standardize\n",
        "scaler = StandardScaler()\n",
        "X = scaler.fit_transform(X)\n",
        "\n",
        "# Split data\n",
        "X_train, X_test, y_train, y_test = train_test_split(X, y, test_size=0.3, random_state=42)\n",
        "\n",
        "# Train SVR\n",
        "svr = SVR(kernel='rbf')\n",
        "svr.fit(X_train, y_train)\n",
        "\n",
        "# Predict and evaluate\n",
        "y_pred = svr.predict(X_test)\n",
        "print(\"Mean Squared Error (Housing):\", mean_squared_error(y_test, y_pred))\n"
      ],
      "metadata": {
        "colab": {
          "base_uri": "https://localhost:8080/"
        },
        "id": "zXu3fqetKbNt",
        "outputId": "45feb1fc-3b1b-4985-a5f1-0120a6a44373"
      },
      "execution_count": null,
      "outputs": [
        {
          "output_type": "stream",
          "name": "stdout",
          "text": [
            "Mean Squared Error (Housing): 0.3470583403432333\n"
          ]
        }
      ]
    },
    {
      "cell_type": "code",
      "source": [
        "24.\n",
        "import numpy as np\n",
        "import matplotlib.pyplot as plt\n",
        "from sklearn.datasets import make_classification\n",
        "from sklearn.svm import SVC\n",
        "\n",
        "# Create synthetic dataset\n",
        "X, y = make_classification(n_samples=100, n_features=2, n_classes=2, n_informative=2, n_redundant=0, random_state=42)\n",
        "\n",
        "# Train SVM with polynomial kernel\n",
        "clf = SVC(kernel='poly', degree=3)\n",
        "clf.fit(X, y)\n",
        "\n",
        "# Plot decision boundary\n",
        "def plot_decision_boundary(X, y, model):\n",
        "    h = .02\n",
        "    x_min, x_max = X[:, 0].min() - 1, X[:, 0].max() + 1\n",
        "    y_min, y_max = X[:, 1].min() - 1, X[:, 1].max() + 1\n",
        "    xx, yy = np.meshgrid(np.arange(x_min, x_max, h),\n",
        "                         np.arange(y_min, y_max, h))\n",
        "    Z = model.predict(np.c_[xx.ravel(), yy.ravel()])\n",
        "    Z = Z.reshape(xx.shape)\n",
        "    plt.contourf(xx, yy, Z, cmap=plt.cm.coolwarm, alpha=0.8)\n",
        "    plt.scatter(X[:, 0], X[:, 1], c=y, cmap=plt.cm.coolwarm, edgecolors='k')\n",
        "    plt.title(\"Polynomial Kernel SVM Decision Boundary\")\n",
        "    plt.xlabel(\"Feature 1\")\n",
        "    plt.ylabel(\"Feature 2\")\n",
        "    plt.show()\n",
        "\n",
        "plot_decision_boundary(X, y, clf)\n"
      ],
      "metadata": {
        "colab": {
          "base_uri": "https://localhost:8080/",
          "height": 472
        },
        "id": "ducl_kboKj0-",
        "outputId": "9e76510d-a8f2-4a75-8db5-c9335b01face"
      },
      "execution_count": null,
      "outputs": [
        {
          "output_type": "display_data",
          "data": {
            "text/plain": [
              "<Figure size 640x480 with 1 Axes>"
            ],
            "image/png": "[encoded data removed]"
          },
          "metadata": {}
        }
      ]
    },
    {
      "cell_type": "code",
      "source": [
        "25.\n",
        "from sklearn.datasets import load_breast_cancer\n",
        "from sklearn.model_selection import train_test_split\n",
        "from sklearn.naive_bayes import GaussianNB\n",
        "from sklearn.metrics import accuracy_score\n",
        "\n",
        "# Load dataset\n",
        "data = load_breast_cancer()\n",
        "X, y = data.data, data.target\n",
        "\n",
        "# Split\n",
        "X_train, X_test, y_train, y_test = train_test_split(X, y, test_size=0.3, random_state=42)\n",
        "\n",
        "# Train Gaussian NB\n",
        "gnb = GaussianNB()\n",
        "gnb.fit(X_train, y_train)\n",
        "\n",
        "# Predict and evaluate\n",
        "y_pred = gnb.predict(X_test)\n",
        "print(\"Accuracy (Breast Cancer):\", accuracy_score(y_test, y_pred))\n"
      ],
      "metadata": {
        "colab": {
          "base_uri": "https://localhost:8080/"
        },
        "id": "VpDtKdVnKzLV",
        "outputId": "349ebf7d-c685-4a93-f169-af2923ccdf3c"
      },
      "execution_count": null,
      "outputs": [
        {
          "output_type": "stream",
          "name": "stdout",
          "text": [
            "Accuracy (Breast Cancer): 0.9415204678362573\n"
          ]
        }
      ]
    },
    {
      "cell_type": "code",
      "source": [
        "26.\n",
        "\n",
        "from sklearn.datasets import fetch_20newsgroups\n",
        "from sklearn.feature_extraction.text import CountVectorizer\n",
        "from sklearn.model_selection import train_test_split\n",
        "from sklearn.naive_bayes import MultinomialNB\n",
        "from sklearn.metrics import accuracy_score\n",
        "\n",
        "# Load dataset\n",
        "categories = ['alt.atheism', 'sci.space', 'talk.religion.misc', 'comp.graphics']\n",
        "newsgroups = fetch_20newsgroups(subset='all', categories=categories)\n",
        "X, y = newsgroups.data, newsgroups.target\n",
        "\n",
        "# Convert text to count vectors\n",
        "vectorizer = CountVectorizer()\n",
        "X_counts = vectorizer.fit_transform(X)\n",
        "\n",
        "# Train-test split\n",
        "X_train, X_test, y_train, y_test = train_test_split(X_counts, y, test_size=0.3, random_state=42)\n",
        "\n",
        "# Train Multinomial NB\n",
        "mnb = MultinomialNB()\n",
        "mnb.fit(X_train, y_train)\n",
        "\n",
        "# Predict and evaluate\n",
        "y_pred = mnb.predict(X_test)\n",
        "print(\"Accuracy (20 Newsgroups):\", accuracy_score(y_test, y_pred))\n"
      ],
      "metadata": {
        "colab": {
          "base_uri": "https://localhost:8080/"
        },
        "id": "2-nieurHK90V",
        "outputId": "9811799b-266b-4548-f432-34357afd93ac"
      },
      "execution_count": null,
      "outputs": [
        {
          "output_type": "stream",
          "name": "stdout",
          "text": [
            "Accuracy (20 Newsgroups): 0.9380530973451328\n"
          ]
        }
      ]
    },
    {
      "cell_type": "code",
      "source": [
        "27.\n",
        "import numpy as np\n",
        "import matplotlib.pyplot as plt\n",
        "from sklearn import datasets\n",
        "from sklearn.svm import SVC\n",
        "\n",
        "# Load data\n",
        "X, y = datasets.make_classification(n_features=2, n_redundant=0, n_informative=2, n_clusters_per_class=1, random_state=42)\n",
        "\n",
        "# Plot decision boundary\n",
        "def plot_decision_boundary(model, X, y, title):\n",
        "    x_min, x_max = X[:, 0].min() - 1, X[:, 0].max() + 1\n",
        "    y_min, y_max = X[:, 1].min() - 1, X[:, 1].max() + 1\n",
        "    xx, yy = np.meshgrid(np.linspace(x_min, x_max, 300),\n",
        "                         np.linspace(y_min, y_max, 300))\n",
        "    Z = model.predict(np.c_[xx.ravel(), yy.ravel()]).reshape(xx.shape)\n",
        "    plt.contourf(xx, yy, Z, alpha=0.3)\n",
        "    plt.scatter(X[:, 0], X[:, 1], c=y, edgecolors='k')\n",
        "    plt.title(title)\n",
        "    plt.show()\n",
        "\n",
        "# Compare with different C values\n",
        "for C in [0.1, 1, 10]:\n",
        "    clf = SVC(kernel='linear', C=C)\n",
        "    clf.fit(X, y)\n",
        "    plot_decision_boundary(clf, X, y, f\"SVM with C={C}\")\n"
      ],
      "metadata": {
        "colab": {
          "base_uri": "https://localhost:8080/",
          "height": 1000
        },
        "id": "5XTLKHkRLFwt",
        "outputId": "8dd2c3a3-223a-4fe0-cfa3-6628a2e6aefa"
      },
      "execution_count": null,
      "outputs": [
        {
          "output_type": "display_data",
          "data": {
            "text/plain": [
              "<Figure size 640x480 with 1 Axes>"
            ],
            "image/png": "[encoded data removed]"
          },
          "metadata": {}
        },
        {
          "output_type": "display_data",
          "data": {
            "text/plain": [
              "<Figure size 640x480 with 1 Axes>"
            ],
            "image/png": "[encoded data removed]"
          },
          "metadata": {}
        },
        {
          "output_type": "display_data",
          "data": {
            "text/plain": [
              "<Figure size 640x480 with 1 Axes>"
            ],
            "image/png": "[encoded data removed]"
          },
          "metadata": {}
        }
      ]
    },
    {
      "cell_type": "code",
      "source": [
        "28.\n",
        "from sklearn.naive_bayes import BernoulliNB\n",
        "from sklearn.model_selection import train_test_split\n",
        "from sklearn.metrics import accuracy_score\n",
        "import numpy as np\n",
        "\n",
        "# Generate binary dataset\n",
        "X = np.random.randint(2, size=(1000, 10))\n",
        "y = np.random.randint(2, size=1000)\n",
        "\n",
        "# Split\n",
        "X_train, X_test, y_train, y_test = train_test_split(X, y, random_state=42)\n",
        "\n",
        "# Train\n",
        "bnb = BernoulliNB()\n",
        "bnb.fit(X_train, y_train)\n",
        "y_pred = bnb.predict(X_test)\n",
        "\n",
        "print(\"Accuracy (BernoulliNB):\", accuracy_score(y_test, y_pred))\n"
      ],
      "metadata": {
        "colab": {
          "base_uri": "https://localhost:8080/"
        },
        "id": "azRz-Ux_Ll72",
        "outputId": "66cc1c1a-bdde-46e5-c964-a0533da5ae0d"
      },
      "execution_count": null,
      "outputs": [
        {
          "output_type": "stream",
          "name": "stdout",
          "text": [
            "Accuracy (BernoulliNB): 0.54\n"
          ]
        }
      ]
    },
    {
      "cell_type": "code",
      "source": [
        "29.\n",
        "from sklearn.datasets import load_iris\n",
        "from sklearn.model_selection import train_test_split\n",
        "from sklearn.svm import SVC\n",
        "from sklearn.preprocessing import StandardScaler\n",
        "from sklearn.metrics import accuracy_score\n",
        "\n",
        "# Load and split\n",
        "X, y = load_iris(return_X_y=True)\n",
        "X_train, X_test, y_train, y_test = train_test_split(X, y, random_state=42)\n",
        "\n",
        "# Without scaling\n",
        "clf_unscaled = SVC()\n",
        "clf_unscaled.fit(X_train, y_train)\n",
        "acc_unscaled = accuracy_score(y_test, clf_unscaled.predict(X_test))\n",
        "\n",
        "# With scaling\n",
        "scaler = StandardScaler()\n",
        "X_train_scaled = scaler.fit_transform(X_train)\n",
        "X_test_scaled = scaler.transform(X_test)\n",
        "clf_scaled = SVC()\n",
        "clf_scaled.fit(X_train_scaled, y_train)\n",
        "acc_scaled = accuracy_score(y_test, clf_scaled.predict(X_test_scaled))\n",
        "\n",
        "print(\"Accuracy (Unscaled):\", acc_unscaled)\n",
        "print(\"Accuracy (Scaled):\", acc_scaled)\n"
      ],
      "metadata": {
        "colab": {
          "base_uri": "https://localhost:8080/"
        },
        "id": "SBcSBfZNLvb2",
        "outputId": "6283ecba-19a3-4ded-9ced-55c686a36613"
      },
      "execution_count": null,
      "outputs": [
        {
          "output_type": "stream",
          "name": "stdout",
          "text": [
            "Accuracy (Unscaled): 1.0\n",
            "Accuracy (Scaled): 1.0\n"
          ]
        }
      ]
    },
    {
      "cell_type": "code",
      "source": [
        "30.\n",
        "from sklearn.naive_bayes import GaussianNB\n",
        "from sklearn.datasets import load_breast_cancer\n",
        "from sklearn.model_selection import train_test_split\n",
        "from sklearn.metrics import accuracy_score\n",
        "\n",
        "X, y = load_breast_cancer(return_X_y=True)\n",
        "X_train, X_test, y_train, y_test = train_test_split(X, y, random_state=42)\n",
        "\n",
        "# Standard GaussianNB (no Laplace smoothing)\n",
        "model1 = GaussianNB()\n",
        "model1.fit(X_train, y_train)\n",
        "acc1 = accuracy_score(y_test, model1.predict(X_test))\n",
        "\n",
        "# Laplace smoothing simulated (not native to GaussianNB; for categorical features only)\n",
        "print(\"Accuracy without Laplace Smoothing:\", acc1)\n",
        "print(\"Laplace smoothing is not applicable to GaussianNB (works with continuous data).\")\n"
      ],
      "metadata": {
        "colab": {
          "base_uri": "https://localhost:8080/"
        },
        "id": "p1pVuNz9LzsF",
        "outputId": "a49799eb-9dc4-4211-e683-6a6d45dd95d7"
      },
      "execution_count": null,
      "outputs": [
        {
          "output_type": "stream",
          "name": "stdout",
          "text": [
            "Accuracy without Laplace Smoothing: 0.958041958041958\n",
            "Laplace smoothing is not applicable to GaussianNB (works with continuous data).\n"
          ]
        }
      ]
    },
    {
      "cell_type": "code",
      "source": [
        "31.\n",
        "from sklearn.model_selection import GridSearchCV\n",
        "from sklearn.datasets import load_wine\n",
        "from sklearn.svm import SVC\n",
        "\n",
        "X, y = load_wine(return_X_y=True)\n",
        "params = {'C': [0.1, 1, 10], 'gamma': ['scale', 'auto'], 'kernel': ['linear', 'rbf']}\n",
        "\n",
        "grid = GridSearchCV(SVC(), params, cv=5)\n",
        "grid.fit(X, y)\n",
        "\n",
        "print(\"Best parameters:\", grid.best_params_)\n",
        "print(\"Best score:\", grid.best_score_)\n"
      ],
      "metadata": {
        "colab": {
          "base_uri": "https://localhost:8080/"
        },
        "id": "V8wGjWq_MH2N",
        "outputId": "9c725440-f6f1-4241-a3f7-2791c1652088"
      },
      "execution_count": null,
      "outputs": [
        {
          "output_type": "stream",
          "name": "stdout",
          "text": [
            "Best parameters: {'C': 0.1, 'gamma': 'scale', 'kernel': 'linear'}\n",
            "Best score: 0.961111111111111\n"
          ]
        }
      ]
    },
    {
      "cell_type": "code",
      "source": [
        "32.\n",
        "from sklearn.datasets import make_classification\n",
        "from sklearn.model_selection import train_test_split\n",
        "from sklearn.svm import SVC\n",
        "from sklearn.metrics import accuracy_score\n",
        "\n",
        "X, y = make_classification(n_classes=2, weights=[0.9, 0.1], n_samples=1000, n_features=20, random_state=42)\n",
        "X_train, X_test, y_train, y_test = train_test_split(X, y)\n",
        "\n",
        "# Without class weights\n",
        "model1 = SVC()\n",
        "model1.fit(X_train, y_train)\n",
        "acc1 = accuracy_score(y_test, model1.predict(X_test))\n",
        "\n",
        "# With class weights\n",
        "model2 = SVC(class_weight='balanced')\n",
        "model2.fit(X_train, y_train)\n",
        "acc2 = accuracy_score(y_test, model2.predict(X_test))\n",
        "\n",
        "print(\"Accuracy without class weighting:\", acc1)\n",
        "print(\"Accuracy with class weighting:\", acc2)\n"
      ],
      "metadata": {
        "colab": {
          "base_uri": "https://localhost:8080/"
        },
        "id": "fsBK7Ex4MQZM",
        "outputId": "eef14a79-c38c-4178-f5db-89f338fca072"
      },
      "execution_count": null,
      "outputs": [
        {
          "output_type": "stream",
          "name": "stdout",
          "text": [
            "Accuracy without class weighting: 0.924\n",
            "Accuracy with class weighting: 0.912\n"
          ]
        }
      ]
    },
    {
      "cell_type": "code",
      "source": [
        "33.\n",
        "from sklearn.model_selection import train_test_split\n",
        "from sklearn.feature_extraction.text import CountVectorizer\n",
        "from sklearn.naive_bayes import MultinomialNB\n",
        "from sklearn.metrics import accuracy_score\n",
        "\n",
        "# Example data (real project should load from dataset)\n",
        "emails = [\"Free money now!\", \"Hi, are we still meeting today?\", \"Win a new car!\", \"Let's schedule our call\"]\n",
        "labels = [1, 0, 1, 0]  # 1 = spam, 0 = not spam\n",
        "\n",
        "X_train, X_test, y_train, y_test = train_test_split(emails, labels, test_size=0.5, random_state=42)\n",
        "vectorizer = CountVectorizer()\n",
        "X_train_vec = vectorizer.fit_transform(X_train)\n",
        "X_test_vec = vectorizer.transform(X_test)\n",
        "\n",
        "model = MultinomialNB()\n",
        "model.fit(X_train_vec, y_train)\n",
        "y_pred = model.predict(X_test_vec)\n",
        "\n",
        "print(\"Accuracy (Spam Detection):\", accuracy_score(y_test, y_pred))\n"
      ],
      "metadata": {
        "colab": {
          "base_uri": "https://localhost:8080/"
        },
        "id": "PKCwTvynMY0N",
        "outputId": "a78c8ec7-857d-4d59-d137-7340d1023eac"
      },
      "execution_count": null,
      "outputs": [
        {
          "output_type": "stream",
          "name": "stdout",
          "text": [
            "Accuracy (Spam Detection): 0.0\n"
          ]
        }
      ]
    },
    {
      "cell_type": "code",
      "source": [
        "34.\n",
        "from sklearn.datasets import load_iris\n",
        "from sklearn.model_selection import train_test_split\n",
        "from sklearn.svm import SVC\n",
        "from sklearn.naive_bayes import GaussianNB\n",
        "from sklearn.metrics import accuracy_score\n",
        "\n",
        "X, y = load_iris(return_X_y=True)\n",
        "X_train, X_test, y_train, y_test = train_test_split(X, y, random_state=42)\n",
        "\n",
        "svm = SVC()\n",
        "nb = GaussianNB()\n",
        "\n",
        "svm.fit(X_train, y_train)\n",
        "nb.fit(X_train, y_train)\n",
        "\n",
        "print(\"SVM Accuracy:\", accuracy_score(y_test, svm.predict(X_test)))\n",
        "print(\"Naïve Bayes Accuracy:\", accuracy_score(y_test, nb.predict(X_test)))\n"
      ],
      "metadata": {
        "colab": {
          "base_uri": "https://localhost:8080/"
        },
        "id": "1z_Coj4rMklN",
        "outputId": "3971e1c9-120a-40fb-aa61-0344ede045f3"
      },
      "execution_count": null,
      "outputs": [
        {
          "output_type": "stream",
          "name": "stdout",
          "text": [
            "SVM Accuracy: 1.0\n",
            "Naïve Bayes Accuracy: 1.0\n"
          ]
        }
      ]
    },
    {
      "cell_type": "code",
      "source": [
        "35.\n",
        "from sklearn.datasets import load_breast_cancer\n",
        "from sklearn.naive_bayes import GaussianNB\n",
        "from sklearn.feature_selection import SelectKBest, f_classif\n",
        "from sklearn.model_selection import train_test_split\n",
        "from sklearn.metrics import accuracy_score\n",
        "\n",
        "X, y = load_breast_cancer(return_X_y=True)\n",
        "X_train, X_test, y_train, y_test = train_test_split(X, y, random_state=42)\n",
        "\n",
        "# Without feature selection\n",
        "model = GaussianNB()\n",
        "model.fit(X_train, y_train)\n",
        "acc_all = accuracy_score(y_test, model.predict(X_test))\n",
        "\n",
        "# With feature selection\n",
        "selector = SelectKBest(score_func=f_classif, k=5)\n",
        "X_new = selector.fit_transform(X, y)\n",
        "X_train2, X_test2, y_train2, y_test2 = train_test_split(X_new, y, random_state=42)\n",
        "\n",
        "model2 = GaussianNB()\n",
        "model2.fit(X_train2, y_train2)\n",
        "acc_selected = accuracy_score(y_test2, model2.predict(X_test2))\n",
        "\n",
        "print(\"Accuracy (All features):\", acc_all)\n",
        "print(\"Accuracy (Selected features):\", acc_selected)\n"
      ],
      "metadata": {
        "colab": {
          "base_uri": "https://localhost:8080/"
        },
        "id": "Be8do7gCMtYd",
        "outputId": "addbfcf5-3c17-4dba-a850-734d7e685565"
      },
      "execution_count": null,
      "outputs": [
        {
          "output_type": "stream",
          "name": "stdout",
          "text": [
            "Accuracy (All features): 0.958041958041958\n",
            "Accuracy (Selected features): 0.951048951048951\n"
          ]
        }
      ]
    },
    {
      "cell_type": "code",
      "source": [
        "36.\n",
        "from sklearn.datasets import load_wine\n",
        "from sklearn.model_selection import train_test_split\n",
        "from sklearn.svm import SVC\n",
        "from sklearn.multiclass import OneVsRestClassifier, OneVsOneClassifier\n",
        "from sklearn.metrics import accuracy_score\n",
        "\n",
        "X, y = load_wine(return_X_y=True)\n",
        "X_train, X_test, y_train, y_test = train_test_split(X, y, random_state=42)\n",
        "\n",
        "ovr = OneVsRestClassifier(SVC())\n",
        "ovo = OneVsOneClassifier(SVC())\n",
        "\n",
        "ovr.fit(X_train, y_train)\n",
        "ovo.fit(X_train, y_train)\n",
        "\n",
        "print(\"OvR Accuracy:\", accuracy_score(y_test, ovr.predict(X_test)))\n",
        "print(\"OvO Accuracy:\", accuracy_score(y_test, ovo.predict(X_test)))\n"
      ],
      "metadata": {
        "colab": {
          "base_uri": "https://localhost:8080/"
        },
        "id": "TYgd_7YVM_Rt",
        "outputId": "c168695f-3e17-430e-b576-11dbff0a17ab"
      },
      "execution_count": null,
      "outputs": [
        {
          "output_type": "stream",
          "name": "stdout",
          "text": [
            "OvR Accuracy: 0.7111111111111111\n",
            "OvO Accuracy: 0.7777777777777778\n"
          ]
        }
      ]
    },
    {
      "cell_type": "code",
      "source": [
        "37.\n",
        "from sklearn.datasets import load_breast_cancer\n",
        "from sklearn.model_selection import train_test_split\n",
        "from sklearn.svm import SVC\n",
        "from sklearn.metrics import accuracy_score\n",
        "\n",
        "X, y = load_breast_cancer(return_X_y=True)\n",
        "X_train, X_test, y_train, y_test = train_test_split(X, y, random_state=42)\n",
        "\n",
        "for kernel in ['linear', 'poly', 'rbf']:\n",
        "    clf = SVC(kernel=kernel)\n",
        "    clf.fit(X_train, y_train)\n",
        "    acc = accuracy_score(y_test, clf.predict(X_test))\n",
        "    print(f\"Kernel = {kernel}, Accuracy = {acc}\")\n"
      ],
      "metadata": {
        "colab": {
          "base_uri": "https://localhost:8080/"
        },
        "id": "xtSLEa-0NGaF",
        "outputId": "ce199041-87b9-4f3e-f28f-7538fa3b4770"
      },
      "execution_count": null,
      "outputs": [
        {
          "output_type": "stream",
          "name": "stdout",
          "text": [
            "Kernel = linear, Accuracy = 0.958041958041958\n",
            "Kernel = poly, Accuracy = 0.9440559440559441\n",
            "Kernel = rbf, Accuracy = 0.951048951048951\n"
          ]
        }
      ]
    },
    {
      "cell_type": "code",
      "source": [
        "38.\n",
        "from sklearn.model_selection import StratifiedKFold, cross_val_score\n",
        "from sklearn.svm import SVC\n",
        "from sklearn.datasets import load_iris\n",
        "import numpy as np\n",
        "\n",
        "X, y = load_iris(return_X_y=True)\n",
        "skf = StratifiedKFold(n_splits=5)\n",
        "\n",
        "scores = cross_val_score(SVC(), X, y, cv=skf)\n",
        "print(\"Cross-validation scores:\", scores)\n",
        "print(\"Average accuracy:\", np.mean(scores))\n"
      ],
      "metadata": {
        "colab": {
          "base_uri": "https://localhost:8080/"
        },
        "id": "HZZPsBPZNP5V",
        "outputId": "6fe04b2a-93f7-434a-ac56-d95af58dd493"
      },
      "execution_count": null,
      "outputs": [
        {
          "output_type": "stream",
          "name": "stdout",
          "text": [
            "Cross-validation scores: [0.96666667 0.96666667 0.96666667 0.93333333 1.        ]\n",
            "Average accuracy: 0.9666666666666666\n"
          ]
        }
      ]
    },
    {
      "cell_type": "code",
      "source": [
        "39.\n",
        "from sklearn.datasets import load_breast_cancer\n",
        "from sklearn.model_selection import train_test_split\n",
        "from sklearn.naive_bayes import GaussianNB\n",
        "from sklearn.metrics import accuracy_score\n",
        "\n",
        "X, y = load_breast_cancer(return_X_y=True)\n",
        "X_train, X_test, y_train, y_test = train_test_split(X, y, random_state=42)\n",
        "\n",
        "for prior in [[0.5, 0.5], [0.3, 0.7], [0.7, 0.3]]:\n",
        "    model = GaussianNB(priors=prior)\n",
        "    model.fit(X_train, y_train)\n",
        "    acc = accuracy_score(y_test, model.predict(X_test))\n",
        "    print(f\"Priors = {prior}, Accuracy = {acc}\")\n"
      ],
      "metadata": {
        "colab": {
          "base_uri": "https://localhost:8080/"
        },
        "id": "MEVJFlBmNVDF",
        "outputId": "a5140b00-e431-44e5-da5b-9ee15a0d2293"
      },
      "execution_count": null,
      "outputs": [
        {
          "output_type": "stream",
          "name": "stdout",
          "text": [
            "Priors = [0.5, 0.5], Accuracy = 0.958041958041958\n",
            "Priors = [0.3, 0.7], Accuracy = 0.958041958041958\n",
            "Priors = [0.7, 0.3], Accuracy = 0.951048951048951\n"
          ]
        }
      ]
    },
    {
      "cell_type": "code",
      "source": [
        "40.\n",
        "from sklearn.datasets import load_breast_cancer\n",
        "from sklearn.model_selection import train_test_split\n",
        "from sklearn.svm import SVC\n",
        "from sklearn.feature_selection import RFE\n",
        "from sklearn.metrics import accuracy_score\n",
        "\n",
        "X, y = load_breast_cancer(return_X_y=True)\n",
        "X_train, X_test, y_train, y_test = train_test_split(X, y, random_state=42)\n",
        "\n",
        "# Train with all features\n",
        "model_full = SVC()\n",
        "model_full.fit(X_train, y_train)\n",
        "acc_full = accuracy_score(y_test, model_full.predict(X_test))\n",
        "\n",
        "# Recursive Feature Elimination\n",
        "rfe = RFE(estimator=SVC(kernel=\"linear\"), n_features_to_select=10)\n",
        "X_train_rfe = rfe.fit_transform(X_train, y_train)\n",
        "X_test_rfe = rfe.transform(X_test)\n",
        "\n",
        "model_rfe = SVC()\n",
        "model_rfe.fit(X_train_rfe, y_train)\n",
        "acc_rfe = accuracy_score(y_test, model_rfe.predict(X_test_rfe))\n",
        "\n",
        "print(\"Accuracy (All features):\", acc_full)\n",
        "print(\"Accuracy (RFE-selected features):\", acc_rfe)\n"
      ],
      "metadata": {
        "colab": {
          "base_uri": "https://localhost:8080/"
        },
        "id": "-CchN0DINZwV",
        "outputId": "69ad1b14-8d87-45b7-f894-9cf9f7c66c1a"
      },
      "execution_count": null,
      "outputs": [
        {
          "output_type": "stream",
          "name": "stdout",
          "text": [
            "Accuracy (All features): 0.951048951048951\n",
            "Accuracy (RFE-selected features): 0.958041958041958\n"
          ]
        }
      ]
    },
    {
      "cell_type": "code",
      "source": [
        "41.\n",
        "from sklearn.datasets import load_iris\n",
        "from sklearn.model_selection import train_test_split\n",
        "from sklearn.svm import SVC\n",
        "from sklearn.metrics import classification_report\n",
        "\n",
        "X, y = load_iris(return_X_y=True)\n",
        "X_train, X_test, y_train, y_test = train_test_split(X, y, random_state=42)\n",
        "\n",
        "clf = SVC()\n",
        "clf.fit(X_train, y_train)\n",
        "y_pred = clf.predict(X_test)\n",
        "\n",
        "print(\"Classification Report:\\n\", classification_report(y_test, y_pred))\n",
        "\n"
      ],
      "metadata": {
        "colab": {
          "base_uri": "https://localhost:8080/"
        },
        "id": "iF8SLMFZOKsm",
        "outputId": "981f3707-23dd-4b97-a3ea-be513e34d17f"
      },
      "execution_count": null,
      "outputs": [
        {
          "output_type": "stream",
          "name": "stdout",
          "text": [
            "Classification Report:\n",
            "               precision    recall  f1-score   support\n",
            "\n",
            "           0       1.00      1.00      1.00        15\n",
            "           1       1.00      1.00      1.00        11\n",
            "           2       1.00      1.00      1.00        12\n",
            "\n",
            "    accuracy                           1.00        38\n",
            "   macro avg       1.00      1.00      1.00        38\n",
            "weighted avg       1.00      1.00      1.00        38\n",
            "\n"
          ]
        }
      ]
    },
    {
      "cell_type": "code",
      "source": [
        "42.\n",
        "from sklearn.datasets import load_breast_cancer\n",
        "from sklearn.model_selection import train_test_split\n",
        "from sklearn.naive_bayes import GaussianNB\n",
        "from sklearn.metrics import log_loss\n",
        "\n",
        "X, y = load_breast_cancer(return_X_y=True)\n",
        "X_train, X_test, y_train, y_test = train_test_split(X, y, random_state=42)\n",
        "\n",
        "model = GaussianNB()\n",
        "model.fit(X_train, y_train)\n",
        "y_proba = model.predict_proba(X_test)\n",
        "\n",
        "loss = log_loss(y_test, y_proba)\n",
        "print(\"Log Loss:\", loss)\n"
      ],
      "metadata": {
        "colab": {
          "base_uri": "https://localhost:8080/"
        },
        "id": "ve7cQxL3OSIk",
        "outputId": "1e490a1d-1453-4055-d313-77faf1fd5a29"
      },
      "execution_count": null,
      "outputs": [
        {
          "output_type": "stream",
          "name": "stdout",
          "text": [
            "Log Loss: 0.5041791651287795\n"
          ]
        }
      ]
    },
    {
      "cell_type": "code",
      "source": [
        "43.\n",
        "import seaborn as sns\n",
        "import matplotlib.pyplot as plt\n",
        "from sklearn.datasets import load_iris\n",
        "from sklearn.model_selection import train_test_split\n",
        "from sklearn.svm import SVC\n",
        "from sklearn.metrics import confusion_matrix\n",
        "\n",
        "X, y = load_iris(return_X_y=True)\n",
        "X_train, X_test, y_train, y_test = train_test_split(X, y, random_state=42)\n",
        "\n",
        "clf = SVC()\n",
        "clf.fit(X_train, y_train)\n",
        "y_pred = clf.predict(X_test)\n",
        "\n",
        "cm = confusion_matrix(y_test, y_pred)\n",
        "sns.heatmap(cm, annot=True, fmt='d', cmap='Blues')\n",
        "plt.title(\"SVM Confusion Matrix\")\n",
        "plt.xlabel(\"Predicted\")\n",
        "plt.ylabel(\"Actual\")\n",
        "plt.show()\n"
      ],
      "metadata": {
        "colab": {
          "base_uri": "https://localhost:8080/",
          "height": 472
        },
        "id": "_XZy_ENuOZjk",
        "outputId": "007a7c0f-7ce3-49ce-96aa-7a72fdff8afa"
      },
      "execution_count": null,
      "outputs": [
        {
          "output_type": "display_data",
          "data": {
            "text/plain": [
              "<Figure size 640x480 with 2 Axes>"
            ],
            "image/png": "[encoded data removed]"
          },
          "metadata": {}
        }
      ]
    },
    {
      "cell_type": "code",
      "source": [
        "44.\n",
        "from sklearn.datasets import fetch_california_housing\n",
        "from sklearn.model_selection import train_test_split\n",
        "from sklearn.svm import SVR\n",
        "from sklearn.metrics import mean_absolute_error\n",
        "\n",
        "X, y = fetch_california_housing(return_X_y=True)\n",
        "X_train, X_test, y_train, y_test = train_test_split(X, y, random_state=42)\n",
        "\n",
        "regressor = SVR()\n",
        "regressor.fit(X_train, y_train)\n",
        "y_pred = regressor.predict(X_test)\n",
        "\n",
        "mae = mean_absolute_error(y_test, y_pred)\n",
        "print(\"Mean Absolute Error (SVR):\", mae)\n"
      ],
      "metadata": {
        "colab": {
          "base_uri": "https://localhost:8080/"
        },
        "id": "sl41CNWOOhAV",
        "outputId": "1764ce9a-65a7-40fc-8b74-b2b9d366775c"
      },
      "execution_count": null,
      "outputs": [
        {
          "output_type": "stream",
          "name": "stdout",
          "text": [
            "Mean Absolute Error (SVR): 0.8674205743031635\n"
          ]
        }
      ]
    },
    {
      "cell_type": "code",
      "source": [
        "45.\n",
        "from sklearn.datasets import load_breast_cancer\n",
        "from sklearn.model_selection import train_test_split\n",
        "from sklearn.naive_bayes import GaussianNB\n",
        "from sklearn.metrics import roc_auc_score\n",
        "\n",
        "X, y = load_breast_cancer(return_X_y=True)\n",
        "X_train, X_test, y_train, y_test = train_test_split(X, y, random_state=42)\n",
        "\n",
        "model = GaussianNB()\n",
        "model.fit(X_train, y_train)\n",
        "y_proba = model.predict_proba(X_test)[:, 1]\n",
        "\n",
        "auc = roc_auc_score(y_test, y_proba)\n",
        "print(\"ROC-AUC Score:\", auc)\n"
      ],
      "metadata": {
        "colab": {
          "base_uri": "https://localhost:8080/"
        },
        "id": "bqp7-P8GOlgu",
        "outputId": "f9ebde70-24b5-4189-dbd2-88df587896a1"
      },
      "execution_count": null,
      "outputs": [
        {
          "output_type": "stream",
          "name": "stdout",
          "text": [
            "ROC-AUC Score: 0.9935497295047857\n"
          ]
        }
      ]
    },
    {
      "cell_type": "code",
      "source": [
        "46.\n",
        "from sklearn.datasets import load_breast_cancer\n",
        "from sklearn.model_selection import train_test_split\n",
        "from sklearn.svm import SVC\n",
        "from sklearn.metrics import precision_recall_curve, PrecisionRecallDisplay\n",
        "import matplotlib.pyplot as plt\n",
        "\n",
        "X, y = load_breast_cancer(return_X_y=True)\n",
        "X_train, X_test, y_train, y_test = train_test_split(X, y, random_state=42)\n",
        "\n",
        "clf = SVC(probability=True)\n",
        "clf.fit(X_train, y_train)\n",
        "y_scores = clf.predict_proba(X_test)[:, 1]\n",
        "\n",
        "precision, recall, _ = precision_recall_curve(y_test, y_scores)\n",
        "\n",
        "disp = PrecisionRecallDisplay(precision=precision, recall=recall)\n",
        "disp.plot()\n",
        "plt.title(\"Precision-Recall Curve (SVM)\")\n",
        "plt.show()\n"
      ],
      "metadata": {
        "colab": {
          "base_uri": "https://localhost:8080/",
          "height": 472
        },
        "id": "c9cs1tuNOu4d",
        "outputId": "0ee22755-7d6b-4a69-9ee1-80ca6dc77709"
      },
      "execution_count": null,
      "outputs": [
        {
          "output_type": "display_data",
          "data": {
            "text/plain": [
              "<Figure size 640x480 with 1 Axes>"
            ],
            "image/png": "[encoded data removed]"
          },
          "metadata": {}
        }
      ]
    }
  ]
}